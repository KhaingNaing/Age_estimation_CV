{
 "cells": [
  {
   "cell_type": "markdown",
   "metadata": {},
   "source": [
    "# CNN Parameters Calculation\n",
    "\n",
    "1. Input layer has nothing to learn\n",
    "2. CONV layer: This is where CNN learns thus have weight matrices\n",
    "3. POOL layer: No learnable parameters since no backprop learning involved\n",
    "4. Fully Connected Layer: has learnable parameters"
   ]
  },
  {
   "cell_type": "code",
   "execution_count": 19,
   "metadata": {},
   "outputs": [],
   "source": [
    "def conv_para(filer_shape, num_filters, input_channels):\n",
    "    h, w = filer_shape\n",
    "    para = (h * w * input_channels + 1) * num_filters\n",
    "    return para\n",
    "\n",
    "def fc_para(input_size, output_size):\n",
    "    return input_size * output_size + output_size   \n",
    "\n",
    "\n",
    "def cnn_paras(layers):\n",
    "    total_paras = 0\n",
    "    for layer in layers:\n",
    "        if layer[\"type\"] == \"conv\":\n",
    "            temp = conv_para(layer[\"filter_shape\"], layer[\"num_filters\"], layer[\"input_channels\"])\n",
    "            total_paras += temp\n",
    "            print(\"conv\", temp)\n",
    "        elif layer[\"type\"] == \"fc\":\n",
    "            total_paras += fc_para(layer[\"input_size\"], layer[\"output_size\"])\n",
    "    return total_paras\n"
   ]
  },
  {
   "cell_type": "code",
   "execution_count": 25,
   "metadata": {},
   "outputs": [
    {
     "name": "stdout",
     "output_type": "stream",
     "text": [
      "conv 448\n",
      "conv 4640\n",
      "conv 18496\n",
      "conv 73856\n",
      "Total Number of Parameters: 621857\n"
     ]
    }
   ],
   "source": [
    "layers = [\n",
    "    {\"type\": \"conv\", \"filter_shape\": (3, 3), \"num_filters\": 16, \"input_channels\": 3},\n",
    "    {\"type\": \"conv\", \"filter_shape\": (3, 3), \"num_filters\": 32, \"input_channels\": 16},\n",
    "    {\"type\": \"conv\", \"filter_shape\": (3, 3), \"num_filters\": 64, \"input_channels\": 32},\n",
    "    {\"type\": \"conv\", \"filter_shape\": (3, 3), \"num_filters\": 128, \"input_channels\": 64},\n",
    "    {\"type\": \"fc\", \"input_size\": 128*8*8, \"output_size\": 64},\n",
    "    {\"type\": \"fc\", \"input_size\": 64, \"output_size\": 1},\n",
    "]\n",
    "\n",
    "total_params = cnn_paras(layers)\n",
    "print(\"Total Number of Parameters:\", total_params)"
   ]
  },
  {
   "cell_type": "code",
   "execution_count": 27,
   "metadata": {},
   "outputs": [
    {
     "name": "stdout",
     "output_type": "stream",
     "text": [
      "conv 448\n",
      "conv 4640\n",
      "conv 18496\n",
      "conv 73856\n",
      "Total Number of Parameters: 1146273\n"
     ]
    }
   ],
   "source": [
    "layers = [\n",
    "    {\"type\": \"conv\", \"filter_shape\": (3, 3), \"num_filters\": 16, \"input_channels\": 3},\n",
    "    {\"type\": \"conv\", \"filter_shape\": (3, 3), \"num_filters\": 32, \"input_channels\": 16},\n",
    "    {\"type\": \"conv\", \"filter_shape\": (3, 3), \"num_filters\": 64, \"input_channels\": 32},\n",
    "    {\"type\": \"conv\", \"filter_shape\": (3, 3), \"num_filters\": 128, \"input_channels\": 64},\n",
    "    {\"type\": \"fc\", \"input_size\": 128*8*8, \"output_size\": 128},\n",
    "    {\"type\": \"fc\", \"input_size\": 128, \"output_size\": 1},\n",
    "]\n",
    "\n",
    "\n",
    "total_params = cnn_paras(layers)\n",
    "print(\"Total Number of Parameters:\", total_params)"
   ]
  },
  {
   "cell_type": "code",
   "execution_count": null,
   "metadata": {},
   "outputs": [],
   "source": []
  }
 ],
 "metadata": {
  "kernelspec": {
   "display_name": "cv_age_estimation",
   "language": "python",
   "name": "python3"
  },
  "language_info": {
   "codemirror_mode": {
    "name": "ipython",
    "version": 3
   },
   "file_extension": ".py",
   "mimetype": "text/x-python",
   "name": "python",
   "nbconvert_exporter": "python",
   "pygments_lexer": "ipython3",
   "version": "3.8.18"
  }
 },
 "nbformat": 4,
 "nbformat_minor": 2
}
